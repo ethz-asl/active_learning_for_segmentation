{
 "cells": [
  {
   "cell_type": "code",
   "execution_count": 40,
   "id": "fcbbc62d-0e51-451b-9d17-6d853b0ec844",
   "metadata": {},
   "outputs": [],
   "source": [
    "from collections import namedtuple\n",
    "from random import randint, uniform\n",
    "from math import sqrt\n",
    "import matplotlib.pyplot as plt\n",
    "import matplotlib.patches as patches\n",
    "\n",
    "Point = namedtuple('Point', 'x y')\n",
    "Node = namedtuple('Node', 'id pos parent')\n",
    "Region = namedtuple('Region', 'pos width height')  # bottom left x,y\n",
    "\n",
    "WORLD_SIZE = 100\n",
    "GOAL_CHANCE = 0.01\n",
    "velocity = 1\n",
    "\n",
    "\n",
    "def dist(point1, point2):\n",
    "    return sqrt((point1[0] - point2[0]) ** 2 + (point1.y - point2.y) ** 2)\n",
    "\n",
    "\n",
    "def in_region(point, region):\n",
    "    return region.pos[0] <= point[0] <= region.pos[0] + region.width \\\n",
    "           and region.pos.y <= point.y <= region.pos.y + region.height\n",
    "\n",
    "\n",
    "def in_regions(point, regions):\n",
    "    for region in regions:\n",
    "        if in_region(point, region):\n",
    "            return True\n",
    "    return False\n",
    "\n",
    "def in_map(point, m_map):\n",
    "    return m_map[int(point.x), int(point.y)] != 1\n",
    "\n",
    "def get_closest(nodes, point):\n",
    "    \"\"\"\n",
    "    Return the node in the list that's closest to the given point\n",
    "    \"\"\"\n",
    "from collections import namedtuple\n",
    "from random import randint, uniform\n",
    "from math import sqrt\n",
    "import matplotlib.pyplot as plt\n",
    "import matplotlib.patches as patches\n",
    "\n",
    "Point = namedtuple('Point', 'x y')\n",
    "Node = namedtuple('Node', 'id pos parent')\n",
    "Region = namedtuple('Region', 'pos width height')  # bottom left x,y\n",
    "\n",
    "WORLD_SIZE_X = 100\n",
    "WORLD_SIZE_Y = 100\n",
    "\n",
    "GOAL_CHANCE = 0.01\n",
    "velocity = 1\n",
    "\n",
    "\n",
    "def dist(point1, point2):\n",
    "    return sqrt((point1[0] - point2[0]) ** 2 + (point1.y - point2.y) ** 2)\n",
    "\n",
    "\n",
    "def in_region(point, region):\n",
    "    return region.pos[0] <= point[0] <= region.pos[0] + region.width \\\n",
    "           and region.pos.y <= point.y <= region.pos.y + region.height\n",
    "\n",
    "\n",
    "def in_regions(point, regions):\n",
    "    for region in regions:\n",
    "        if in_region(point, region):\n",
    "            return True\n",
    "    return False\n",
    "\n",
    "\n",
    "def get_closest(nodes, point):\n",
    "    \"\"\"\n",
    "    Return the node in the list that's closest to the given point\n",
    "    \"\"\"\n",
    "    return min(nodes, key=lambda x: dist(x.pos, point))\n",
    "\n",
    "\n",
    "def steer(point1, point2):\n",
    "    \"\"\"\n",
    "    Return an intermediate point on the line between point1 and point2\n",
    "    \"\"\"\n",
    "    total_offset = abs(point2.x - point1.x) + abs(point2.y - point1.y)\n",
    "    x = point1.x + velocity * ((point2.x - point1.x) / total_offset)\n",
    "    y = point1.y + velocity * ((point2.y - point1.y) / total_offset)\n",
    "    return Point(x, y)\n",
    "\n",
    "\n",
    "def calculate_path(start, goal, obstacles):\n",
    "    nodes = [Node(0, start, 0)]\n",
    "    while True:\n",
    "        if uniform(0, 1) < GOAL_CHANCE:\n",
    "            z_rand = Point(goal.pos.x + goal.width / 2, goal.pos.y + goal.height / 2)\n",
    "        else:\n",
    "            z_rand = Point(randint(0, WORLD_SIZE_X), randint(0, WORLD_SIZE_Y))\n",
    "        if in_regions(z_rand, obstacles):\n",
    "            continue\n",
    "        nearest = get_closest(nodes, z_rand)\n",
    "        if z_rand == nearest.pos:\n",
    "            continue\n",
    "\n",
    "        new_pos = steer(nearest.pos, z_rand)\n",
    "        if in_regions(new_pos, obstacles):\n",
    "            continue\n",
    "        nodes.append(Node(len(nodes), new_pos, nearest.id))\n",
    "\n",
    "        if len(nodes) % 100 == 0:\n",
    "            print(\"{} Nodes Searched\".format(len(nodes)))\n",
    "\n",
    "        if in_region(new_pos, goal):\n",
    "            return nodes\n",
    "\n",
    "\n",
    "# if __name__ == '__main__':\n",
    "#     start_pos = Point(WORLD_SIZE / 4, WORLD_SIZE / 4)\n",
    "#     end_region = Region(Point(3 * WORLD_SIZE / 4, 3 * WORLD_SIZE / 4), 10, 10)\n",
    "#     obstacles = [\n",
    "#         Region(Point(0, 30), 80, 10),\n",
    "#         Region(Point(20, 60), 80, 10)\n",
    "#     ]\n",
    "#     nodes = calculate_path(start_pos, end_region, obstacles)\n",
    "#     node_count = len(nodes)\n",
    "#     print(\"Nodes Calculated {}\".format(node_count))\n",
    "#     fig = plt.figure(1)\n",
    "\n",
    "\n",
    "#     def plot_nodes(nodes, subplot):\n",
    "#         axes = fig.add_subplot(subplot, aspect='equal')\n",
    "#         for node in nodes:\n",
    "#             parent = nodes[node.parent]\n",
    "#             plt.plot([node.pos.x, parent.pos.x], [node.pos.y, parent.pos.y], 'k-')\n",
    "\n",
    "#         for obstacle in obstacles:\n",
    "#             axes.add_patch(patches.Rectangle(obstacle.pos, obstacle.width, obstacle.height, color=(0, 0, 0, .3)))\n",
    "\n",
    "#         axes.plot(start_pos.x, start_pos.y, 'ro')\n",
    "#         axes.add_patch(patches.Rectangle(end_region.pos, end_region.width, end_region.height, color='g'))\n",
    "#         axes.set_title(\"{} Points\".format(len(nodes)))\n",
    "#         axes.set_xlim([0, WORLD_SIZE])\n",
    "#         axes.set_ylim([0, WORLD_SIZE])\n",
    "\n",
    "\n",
    "#     nodes.sort(key=lambda n: n.id)\n",
    "#     plot_nodes(nodes[:100], 221)\n",
    "#     plot_nodes(nodes[:500], 222)\n",
    "#     plot_nodes(nodes[:1000], 223)\n",
    "#     plot_nodes(nodes, 224)\n",
    "\n",
    "#     # Highlight path from goal back to start position\n",
    "#     current_node = nodes[-1]\n",
    "#     while current_node.id != 0:\n",
    "#         parent = nodes[current_node.parent]\n",
    "#         plt.plot([current_node.pos.x, parent.pos.x], [current_node.pos.y, parent.pos.y], 'b-', linewidth=2.0)\n",
    "#         current_node = parent\n",
    "\n",
    "#     plt.show()\n",
    "\n",
    "#     return min(nodes, key=lambda x: dist(x.pos, point))\n",
    "\n",
    "\n",
    "def steer(point1, point2):\n",
    "    \"\"\"\n",
    "    Return an intermediate point on the line between point1 and point2\n",
    "    \"\"\"\n",
    "    total_offset = abs(point2.x - point1.x) + abs(point2.y - point1.y)\n",
    "    x = point1.x + velocity * ((point2.x - point1.x) / total_offset)\n",
    "    y = point1.y + velocity * ((point2.y - point1.y) / total_offset)\n",
    "    return Point(x, y)\n",
    "\n",
    "\n",
    "def calculate_path(start, goal, obstacles, asmap = False):\n",
    "    nodes = [Node(0, start, 0)]\n",
    "    while True:\n",
    "        if uniform(0, 1) < GOAL_CHANCE:\n",
    "            z_rand = Point(goal.pos.x + goal.width / 2, goal.pos.y + goal.height / 2)\n",
    "        else:\n",
    "            z_rand = Point(randint(0, WORLD_SIZE_X), randint(0, WORLD_SIZE_Y))\n",
    "        if (not asmap and in_regions(z_rand, obstacles)) or (asmap and in_map(z_rand, obstacles)):\n",
    "            continue\n",
    "        nearest = get_closest(nodes, z_rand)\n",
    "        if z_rand == nearest.pos:\n",
    "            continue\n",
    "\n",
    "        new_pos = steer(nearest.pos, z_rand)\n",
    "        if (not asmap and in_regions(new_pos, obstacles)) or (asmap and in_map(new_pos, obstacles)):\n",
    "            continue\n",
    "            \n",
    "        nodes.append(Node(len(nodes), new_pos, nearest.id))\n",
    "\n",
    "        if len(nodes) % 100 == 0:\n",
    "            print(\"{} Nodes Searched\".format(len(nodes)))\n",
    "\n",
    "        if in_region(new_pos, goal):\n",
    "            return nodes\n"
   ]
  },
  {
   "cell_type": "code",
   "execution_count": 23,
   "id": "45336ded-3c6a-4a7e-9f2b-d3d83abea702",
   "metadata": {},
   "outputs": [],
   "source": [
    "import pickle \n",
    "pointsToSample = 10\n",
    "\n",
    "map_struct = pickle.load(open(\"../map_generation/map.pickle\", \"rb\"))\n",
    "map_occupied = map_struct['map']  # Binary map\n",
    "map_rgb = np.stack([(map_occupied == 0) * 255 for i in range(3)],\n",
    "                   axis=-1).astype(np.uint8)  # Black White 3 channel image\n",
    "lengthPerPixel = map_struct['dimensions'][\n",
    "    'lengthPerPixel']  # Conversion from pixel to meters in unreal\n",
    "top_start, left_start = map_struct['start']['top'], map_struct['start'][\n",
    "    'left']  # Start position of the dron\n",
    "top_lim, left_lim = map_occupied.shape"
   ]
  },
  {
   "cell_type": "code",
   "execution_count": 41,
   "id": "7c91de03-4e70-4c87-9b79-e969053bdd7d",
   "metadata": {},
   "outputs": [
    {
     "data": {
      "text/plain": [
       "True"
      ]
     },
     "execution_count": 41,
     "metadata": {},
     "output_type": "execute_result"
    }
   ],
   "source": [
    "in_map(start_pos, mmap)"
   ]
  },
  {
   "cell_type": "code",
   "execution_count": 38,
   "id": "5f5cd19d-6dd5-419a-9356-81bb179e034e",
   "metadata": {},
   "outputs": [
    {
     "data": {
      "text/plain": [
       "False"
      ]
     },
     "execution_count": 38,
     "metadata": {},
     "output_type": "execute_result"
    }
   ],
   "source": [
    "mmap[start_pos.x, start_pos.y]"
   ]
  },
  {
   "cell_type": "code",
   "execution_count": 26,
   "id": "4f412330-a64b-4c42-86e3-bd78ef558bfc",
   "metadata": {},
   "outputs": [],
   "source": [
    "WORLD_SIZE_X = left_lim\n",
    "WORLD_SIZE_Y = top_lim"
   ]
  },
  {
   "cell_type": "code",
   "execution_count": 37,
   "id": "ea0a00eb-8702-4d7a-9c60-ee39e0e06024",
   "metadata": {},
   "outputs": [
    {
     "data": {
      "text/plain": [
       "<matplotlib.image.AxesImage at 0x7f0b374613d0>"
      ]
     },
     "execution_count": 37,
     "metadata": {},
     "output_type": "execute_result"
    },
    {
     "data": {
      "image/png": "[encoded data removed]",
      "text/plain": [
       "<Figure size 432x288 with 1 Axes>"
      ]
     },
     "metadata": {
      "needs_background": "light"
     },
     "output_type": "display_data"
    }
   ],
   "source": [
    "plt.imshow(map_occupied == 1)\n",
    "m = 0*map_occupied\n",
    "m[start_pos.x - 10:start_pos.x + 10, start_pos.y - 10 : start_pos.y + 10] = 10\n",
    "plt.imshow(m, alpha = 0.2)"
   ]
  },
  {
   "cell_type": "code",
   "execution_count": 42,
   "id": "737bbfb6-6ff1-40c6-b9fb-280b6a92f3b5",
   "metadata": {},
   "outputs": [
    {
     "ename": "KeyboardInterrupt",
     "evalue": "",
     "output_type": "error",
     "traceback": [
      "\u001b[0;31m---------------------------------------------------------------------------\u001b[0m",
      "\u001b[0;31mKeyboardInterrupt\u001b[0m                         Traceback (most recent call last)",
      "\u001b[0;32m<ipython-input-42-1abcc3708425>\u001b[0m in \u001b[0;36m<module>\u001b[0;34m\u001b[0m\n\u001b[1;32m      3\u001b[0m \u001b[0;34m\u001b[0m\u001b[0m\n\u001b[1;32m      4\u001b[0m \u001b[0mmmap\u001b[0m \u001b[0;34m=\u001b[0m \u001b[0mmap_occupied\u001b[0m\u001b[0;34m\u001b[0m\u001b[0;34m\u001b[0m\u001b[0m\n\u001b[0;32m----> 5\u001b[0;31m \u001b[0mnodes\u001b[0m \u001b[0;34m=\u001b[0m \u001b[0mcalculate_path\u001b[0m\u001b[0;34m(\u001b[0m\u001b[0mstart_pos\u001b[0m\u001b[0;34m,\u001b[0m \u001b[0mend_region\u001b[0m\u001b[0;34m,\u001b[0m \u001b[0mmmap\u001b[0m\u001b[0;34m,\u001b[0m \u001b[0masmap\u001b[0m\u001b[0;34m=\u001b[0m\u001b[0;32mTrue\u001b[0m\u001b[0;34m)\u001b[0m\u001b[0;34m\u001b[0m\u001b[0;34m\u001b[0m\u001b[0m\n\u001b[0m\u001b[1;32m      6\u001b[0m \u001b[0mnode_count\u001b[0m \u001b[0;34m=\u001b[0m \u001b[0mlen\u001b[0m\u001b[0;34m(\u001b[0m\u001b[0mnodes\u001b[0m\u001b[0;34m)\u001b[0m\u001b[0;34m\u001b[0m\u001b[0;34m\u001b[0m\u001b[0m\n\u001b[1;32m      7\u001b[0m \u001b[0mprint\u001b[0m\u001b[0;34m(\u001b[0m\u001b[0;34m\"Nodes Calculated {}\"\u001b[0m\u001b[0;34m.\u001b[0m\u001b[0mformat\u001b[0m\u001b[0;34m(\u001b[0m\u001b[0mnode_count\u001b[0m\u001b[0;34m)\u001b[0m\u001b[0;34m)\u001b[0m\u001b[0;34m\u001b[0m\u001b[0;34m\u001b[0m\u001b[0m\n",
      "\u001b[0;32m<ipython-input-40-2f100e960195>\u001b[0m in \u001b[0;36mcalculate_path\u001b[0;34m(start, goal, obstacles, asmap)\u001b[0m\n\u001b[1;32m    174\u001b[0m             \u001b[0mz_rand\u001b[0m \u001b[0;34m=\u001b[0m \u001b[0mPoint\u001b[0m\u001b[0;34m(\u001b[0m\u001b[0mgoal\u001b[0m\u001b[0;34m.\u001b[0m\u001b[0mpos\u001b[0m\u001b[0;34m.\u001b[0m\u001b[0mx\u001b[0m \u001b[0;34m+\u001b[0m \u001b[0mgoal\u001b[0m\u001b[0;34m.\u001b[0m\u001b[0mwidth\u001b[0m \u001b[0;34m/\u001b[0m \u001b[0;36m2\u001b[0m\u001b[0;34m,\u001b[0m \u001b[0mgoal\u001b[0m\u001b[0;34m.\u001b[0m\u001b[0mpos\u001b[0m\u001b[0;34m.\u001b[0m\u001b[0my\u001b[0m \u001b[0;34m+\u001b[0m \u001b[0mgoal\u001b[0m\u001b[0;34m.\u001b[0m\u001b[0mheight\u001b[0m \u001b[0;34m/\u001b[0m \u001b[0;36m2\u001b[0m\u001b[0;34m)\u001b[0m\u001b[0;34m\u001b[0m\u001b[0;34m\u001b[0m\u001b[0m\n\u001b[1;32m    175\u001b[0m         \u001b[0;32melse\u001b[0m\u001b[0;34m:\u001b[0m\u001b[0;34m\u001b[0m\u001b[0;34m\u001b[0m\u001b[0m\n\u001b[0;32m--> 176\u001b[0;31m             \u001b[0mz_rand\u001b[0m \u001b[0;34m=\u001b[0m \u001b[0mPoint\u001b[0m\u001b[0;34m(\u001b[0m\u001b[0mrandint\u001b[0m\u001b[0;34m(\u001b[0m\u001b[0;36m0\u001b[0m\u001b[0;34m,\u001b[0m \u001b[0mWORLD_SIZE_X\u001b[0m\u001b[0;34m)\u001b[0m\u001b[0;34m,\u001b[0m \u001b[0mrandint\u001b[0m\u001b[0;34m(\u001b[0m\u001b[0;36m0\u001b[0m\u001b[0;34m,\u001b[0m \u001b[0mWORLD_SIZE_Y\u001b[0m\u001b[0;34m)\u001b[0m\u001b[0;34m)\u001b[0m\u001b[0;34m\u001b[0m\u001b[0;34m\u001b[0m\u001b[0m\n\u001b[0m\u001b[1;32m    177\u001b[0m         \u001b[0;32mif\u001b[0m \u001b[0;34m(\u001b[0m\u001b[0;32mnot\u001b[0m \u001b[0masmap\u001b[0m \u001b[0;32mand\u001b[0m \u001b[0min_regions\u001b[0m\u001b[0;34m(\u001b[0m\u001b[0mz_rand\u001b[0m\u001b[0;34m,\u001b[0m \u001b[0mobstacles\u001b[0m\u001b[0;34m)\u001b[0m\u001b[0;34m)\u001b[0m \u001b[0;32mor\u001b[0m \u001b[0;34m(\u001b[0m\u001b[0masmap\u001b[0m \u001b[0;32mand\u001b[0m \u001b[0min_map\u001b[0m\u001b[0;34m(\u001b[0m\u001b[0mz_rand\u001b[0m\u001b[0;34m,\u001b[0m \u001b[0mobstacles\u001b[0m\u001b[0;34m)\u001b[0m\u001b[0;34m)\u001b[0m\u001b[0;34m:\u001b[0m\u001b[0;34m\u001b[0m\u001b[0;34m\u001b[0m\u001b[0m\n\u001b[1;32m    178\u001b[0m             \u001b[0;32mcontinue\u001b[0m\u001b[0;34m\u001b[0m\u001b[0;34m\u001b[0m\u001b[0m\n",
      "\u001b[0;32m/usr/lib/python3.8/random.py\u001b[0m in \u001b[0;36mrandint\u001b[0;34m(self, a, b)\u001b[0m\n\u001b[1;32m    246\u001b[0m         \"\"\"\n\u001b[1;32m    247\u001b[0m \u001b[0;34m\u001b[0m\u001b[0m\n\u001b[0;32m--> 248\u001b[0;31m         \u001b[0;32mreturn\u001b[0m \u001b[0mself\u001b[0m\u001b[0;34m.\u001b[0m\u001b[0mrandrange\u001b[0m\u001b[0;34m(\u001b[0m\u001b[0ma\u001b[0m\u001b[0;34m,\u001b[0m \u001b[0mb\u001b[0m\u001b[0;34m+\u001b[0m\u001b[0;36m1\u001b[0m\u001b[0;34m)\u001b[0m\u001b[0;34m\u001b[0m\u001b[0;34m\u001b[0m\u001b[0m\n\u001b[0m\u001b[1;32m    249\u001b[0m \u001b[0;34m\u001b[0m\u001b[0m\n\u001b[1;32m    250\u001b[0m     \u001b[0;32mdef\u001b[0m \u001b[0m_randbelow_with_getrandbits\u001b[0m\u001b[0;34m(\u001b[0m\u001b[0mself\u001b[0m\u001b[0;34m,\u001b[0m \u001b[0mn\u001b[0m\u001b[0;34m)\u001b[0m\u001b[0;34m:\u001b[0m\u001b[0;34m\u001b[0m\u001b[0;34m\u001b[0m\u001b[0m\n",
      "\u001b[0;31mKeyboardInterrupt\u001b[0m: "
     ]
    }
   ],
   "source": [
    "start_pos = Point(319, 270)\n",
    "end_region = Region(Point(319, 541), 10, 10)\n",
    "\n",
    "mmap = map_occupied\n",
    "nodes = calculate_path(start_pos, end_region, mmap, asmap=True)\n",
    "node_count = len(nodes)\n",
    "print(\"Nodes Calculated {}\".format(node_count))\n",
    "fig = plt.figure(1)\n",
    "\n",
    "\n",
    "def plot_nodes(nodes, subplot):\n",
    "    axes = fig.add_subplot(subplot, aspect='equal')\n",
    "    for node in nodes:\n",
    "        parent = nodes[node.parent]\n",
    "        plt.plot([node.pos.x, parent.pos.x], [node.pos.y, parent.pos.y], 'k-')\n",
    "\n",
    "    axes.plot(start_pos.x, start_pos.y, 'ro')\n",
    "    axes.imshow(mmap)\n",
    "#     axes.add_patch(patches.Rectangle(end_region.pos, end_region.width, end_region.height, color='g'))\n",
    "    axes.set_title(\"{} Points\".format(len(nodes)))\n",
    "    axes.set_xlim([0, WORLD_SIZE_X])\n",
    "    axes.set_ylim([0, WORLD_SIZE_Y])\n",
    "\n",
    "\n",
    "nodes.sort(key=lambda n: n.id)\n",
    "plot_nodes(nodes[:100], 221)\n",
    "plot_nodes(nodes[:500], 222)\n",
    "plot_nodes(nodes[:1000], 223)\n",
    "plot_nodes(nodes, 224)\n",
    "\n",
    "# Highlight path from goal back to start position\n",
    "current_node = nodes[-1]\n",
    "while current_node.id != 0:\n",
    "    parent = nodes[current_node.parent]\n",
    "    plt.plot([current_node.pos.x, parent.pos.x], [current_node.pos.y, parent.pos.y], 'b-', linewidth=2.0)\n",
    "    current_node = parent\n",
    "\n",
    "plt.show()\n"
   ]
  }
 ],
 "metadata": {
  "kernelspec": {
   "display_name": "Python 3",
   "language": "python",
   "name": "python3"
  },
  "language_info": {
   "codemirror_mode": {
    "name": "ipython",
    "version": 3
   },
   "file_extension": ".py",
   "mimetype": "text/x-python",
   "name": "python",
   "nbconvert_exporter": "python",
   "pygments_lexer": "ipython3",
   "version": "3.8.5"
  }
 },
 "nbformat": 4,
 "nbformat_minor": 5
}
