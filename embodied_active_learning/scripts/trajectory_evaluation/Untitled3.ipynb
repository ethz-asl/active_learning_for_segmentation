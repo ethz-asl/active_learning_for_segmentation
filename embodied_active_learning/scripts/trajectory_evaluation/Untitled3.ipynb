{
 "cells": [
  {
   "cell_type": "code",
   "execution_count": null,
   "id": "dda7fda9-2c77-4e1b-aa97-33ac6fc85244",
   "metadata": {},
   "outputs": [],
   "source": [
    "\n",
    "        self.top_start = self.top_start + 100\n",
    "        self.left_start = self.left_start + 50"
   ]
  },
  {
   "cell_type": "code",
   "execution_count": 5,
   "id": "fff1189e-0ea4-4926-b3e3-5ec64e205a65",
   "metadata": {},
   "outputs": [],
   "source": [
    "import pickle"
   ]
  },
  {
   "cell_type": "code",
   "execution_count": 8,
   "id": "abe28aa1-ece8-485e-ac7b-d536298a8299",
   "metadata": {},
   "outputs": [],
   "source": [
    "minimapPath = \"../../scripts/map_generation/minimap.pickle\""
   ]
  },
  {
   "cell_type": "code",
   "execution_count": 20,
   "id": "f300be9a-6600-462b-98f3-ccb55301abc9",
   "metadata": {},
   "outputs": [
    {
     "data": {
      "text/plain": [
       "{'top': 330, 'left': 689}"
      ]
     },
     "execution_count": 20,
     "metadata": {},
     "output_type": "execute_result"
    }
   ],
   "source": [
    "try:\n",
    "    map_struct = pickle.load(open(minimapPath, \"rb\"))\n",
    "except Exception as e:\n",
    "    print(e)\n",
    "map_struct['start']"
   ]
  },
  {
   "cell_type": "code",
   "execution_count": 19,
   "id": "6bf12dcc-ea98-4d8f-9bbd-fd9f3eeb605e",
   "metadata": {},
   "outputs": [],
   "source": [
    "map_struct['start']['top'] = 210 - 50\n",
    "map_struct['start']['left'] = 639 + 50\n",
    "pickle.dump(map_struct, open(minimapPath, \"wb\"))"
   ]
  }
 ],
 "metadata": {
  "kernelspec": {
   "display_name": "Python 3",
   "language": "python",
   "name": "python3"
  },
  "language_info": {
   "codemirror_mode": {
    "name": "ipython",
    "version": 3
   },
   "file_extension": ".py",
   "mimetype": "text/x-python",
   "name": "python",
   "nbconvert_exporter": "python",
   "pygments_lexer": "ipython3",
   "version": "3.8.5"
  }
 },
 "nbformat": 4,
 "nbformat_minor": 5
}
